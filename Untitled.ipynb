{
 "cells": [
  {
   "cell_type": "code",
   "execution_count": 12,
   "id": "48b2d26f-fb4e-4ffb-b585-4bb0d286bd47",
   "metadata": {},
   "outputs": [],
   "source": [
    "import numpy as np\n",
    "import pandas as pd\n",
    "import cv2 as cv\n",
    "import pytesseract as ts\n",
    "\n",
    "import os\n",
    "from glob import glob\n",
    "from tqdm import tqdm\n",
    "\n",
    "import warnings\n",
    "warnings.filterwarnings('ignore')"
   ]
  },
  {
   "cell_type": "code",
   "execution_count": 13,
   "id": "337c91eb-51a6-4c16-9b79-0939588c3452",
   "metadata": {},
   "outputs": [],
   "source": [
    "# Get all png images inside ./images directory\n",
    "imgPaths = glob('./images/*.png')"
   ]
  },
  {
   "cell_type": "code",
   "execution_count": 14,
   "id": "ab184e18-edca-4d37-befd-3c5e823ac9c0",
   "metadata": {},
   "outputs": [
    {
     "data": {
      "text/plain": [
       "['./images/img-01.png',\n",
       " './images/img-04.png',\n",
       " './images/img-03.png',\n",
       " './images/img-02.png']"
      ]
     },
     "execution_count": 14,
     "metadata": {},
     "output_type": "execute_result"
    }
   ],
   "source": [
    "imgPaths"
   ]
  }
 ],
 "metadata": {
  "kernelspec": {
   "display_name": "Python 3 (ipykernel)",
   "language": "python",
   "name": "python3"
  },
  "language_info": {
   "codemirror_mode": {
    "name": "ipython",
    "version": 3
   },
   "file_extension": ".py",
   "mimetype": "text/x-python",
   "name": "python",
   "nbconvert_exporter": "python",
   "pygments_lexer": "ipython3",
   "version": "3.12.7"
  }
 },
 "nbformat": 4,
 "nbformat_minor": 5
}
